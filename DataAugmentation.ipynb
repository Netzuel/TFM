{
 "metadata": {
  "language_info": {
   "codemirror_mode": {
    "name": "ipython",
    "version": 3
   },
   "file_extension": ".py",
   "mimetype": "text/x-python",
   "name": "python",
   "nbconvert_exporter": "python",
   "pygments_lexer": "ipython3",
   "version": "3.8.5-final"
  },
  "orig_nbformat": 2,
  "kernelspec": {
   "name": "python38564bitc7540b7eedad46cc87a03fd6927cb6bc",
   "display_name": "Python 3.8.5 64-bit"
  }
 },
 "nbformat": 4,
 "nbformat_minor": 2,
 "cells": [
  {
   "cell_type": "code",
   "execution_count": 31,
   "metadata": {},
   "outputs": [],
   "source": [
    "# Primero cargamos las imágenes procesadas:\n",
    "\n",
    "import numpy as np\n",
    "import h5py\n",
    "\n",
    "hf = h5py.File(\"Preprocesado/processed.h5\", \"r\")\n",
    "processed_images = np.array(hf.get(\"processed_images\"))"
   ]
  },
  {
   "cell_type": "code",
   "execution_count": 32,
   "metadata": {},
   "outputs": [],
   "source": [
    "# Si queremos hacer Data Augmentation, tendremos que cargar las imágenes sin estandarizar, únicamente recortadas.\n",
    "\n",
    "import cv2 as cv\n",
    "\n",
    "files = os.listdir(\"Preprocesado/Heridas/Recortados\")\n",
    "images = [cv.imread(\"Preprocesado/Heridas/Recortados/\"+str(i+1)+\".png\") for i in range(len(files))]\n",
    "sizes = [cv.imread(\"Preprocesado/Heridas/Recortados/\"+str(i+1)+\".png\").shape[0] for i in range(len(files))]\n",
    "\n",
    "# Ya tenemos una lista de las imágenes, ahora haremos Data Augmentation."
   ]
  },
  {
   "cell_type": "code",
   "execution_count": 33,
   "metadata": {},
   "outputs": [],
   "source": [
    "# Ahora haremos algo de DataAugmentation para conseguir algunas imágenes extra.\n",
    "\n",
    "from numpy import expand_dims\n",
    "from keras.preprocessing.image import load_img\n",
    "from keras.preprocessing.image import img_to_array\n",
    "from keras.preprocessing.image import ImageDataGenerator\n",
    "import matplotlib.pyplot as plt\n",
    "\n",
    "# Consideraremos, como primera medida, obtener 4 imágenes modificadas, aleatoriamente, de cada una de las que tenemos realizando diferentes operaciones como\n",
    "# traslaciones, rotaciones, zooms, ...\n",
    "# Crearemos una nueva función de preprocesado específica para este caso.\n",
    "\n",
    "def preprocessing_dataug(path_inj, path_healthy, name_img, img):\n",
    "    import numpy as np\n",
    "    import cv2 as cv\n",
    "\n",
    "    img_inj = img\n",
    "    img_healthy = cv.imread(path_healthy+\"/\"+name_img+\".png\")\n",
    "\n",
    "    def standardize(img1, img2):\n",
    "        mean = np.mean(img1)\n",
    "        std = np.std(img1)\n",
    "        img = (img2-mean)/std\n",
    "        return img\n",
    "\n",
    "    r_channel = standardize(img_healthy[:,:,0], img_inj[:,:,0])\n",
    "    g_channel = standardize(img_healthy[:,:,1], img_inj[:,:,1])\n",
    "    b_channel = standardize(img_healthy[:,:,2], img_inj[:,:,2])\n",
    "\n",
    "    # Para evitar valores negativos en las imágenes de salida, aplicaremos la \"unity-based normalization\" tras estandarizar los canales.\n",
    "\n",
    "    image_std = np.stack([r_channel, g_channel, b_channel], axis=-1)\n",
    "    image_std_normalized = (image_std-np.min(image_std))/(np.max(image_std)-np.min(image_std))\n",
    "\n",
    "    return image_std_normalized"
   ]
  },
  {
   "cell_type": "code",
   "execution_count": 34,
   "metadata": {},
   "outputs": [],
   "source": [
    "new_images = []\n",
    "\n",
    "for i in range(len(images)):\n",
    "\n",
    "    dim_img = images[i].shape[0]\n",
    "    samples = expand_dims(images[1], 0)\n",
    "    datagen = ImageDataGenerator(width_shift_range = 0.3, height_shift_range = 0.3, horizontal_flip = True, rotation_range = 90, zoom_range = [0.5,1.0])\n",
    "    it = datagen.flow(samples, batch_size = 1)\n",
    "\n",
    "    for j in range(6):\n",
    "        batch = it.next()\n",
    "        image = batch[0].astype('uint8')\n",
    "        image_new = preprocessing_dataug(\"Preprocesado/Heridas/Recortados\", \"Preprocesado/Sanos/Recortados\", str(i+1), image)\n",
    "        new_images.append(image_new)"
   ]
  },
  {
   "cell_type": "code",
   "execution_count": 35,
   "metadata": {},
   "outputs": [],
   "source": [
    "# Ahora hemos de preprocesar también las imágenes originales y luego concatenar ambas listas (la original y la creada)\n",
    "\n",
    "for i in range(len(files)):\n",
    "    images[i] = preprocessing_dataug(\"Preprocesado/Heridas/Recortados\", \"Preprocesado/Sanos/Recortados\", str(i+1), images[i])\n",
    "\n",
    "data_augmented = images+new_images"
   ]
  },
  {
   "cell_type": "code",
   "execution_count": 36,
   "metadata": {},
   "outputs": [],
   "source": [
    "# Ahora haremos un resize y las dispondremos en un array. Luego extraeremos el resultaod a un archivo h5.\n",
    "\n",
    "from Funciones import resize\n",
    "\n",
    "new_dim = int(round(np.mean(sizes)))\n",
    "\n",
    "new_data_augmented = [resize(data_augmented[i], X = new_dim, Y = new_dim, method = \"linear\") for i in range(len(data_augmented))]\n",
    "\n",
    "new_data_augmented = np.stack(new_data_augmented, axis = 0)"
   ]
  },
  {
   "cell_type": "code",
   "execution_count": 37,
   "metadata": {},
   "outputs": [],
   "source": [
    "# Ahora hemos de sacar las etiquetas del CSV.\n",
    "\n",
    "import pandas as pd\n",
    "\n",
    "data = pd.read_csv(\"Leucoplasia307.csv\")\n",
    "\n",
    "labels = np.array(data[\"Evolucioncancer\"].values)\n",
    "milabel = np.array(data[\"MiLabel\"].values)\n",
    "\n",
    "indices = np.where(milabel > 0)[0]\n",
    "labels = list(labels[indices])\n",
    "\n",
    "# No obstante estas etiquetas son únicamente las de las imágenes originales y necesitamos etiquetar también las obtenidas mediante Data Augmentation.\n",
    "\n",
    "for i in range(processed_images.shape[0]):\n",
    "    labels = labels + [labels[i], labels[i], labels[i], labels[i], labels[i], labels[i]]\n",
    "\n",
    "labels = np.array(labels)"
   ]
  },
  {
   "cell_type": "code",
   "execution_count": 38,
   "metadata": {},
   "outputs": [],
   "source": [
    "# Del mismo CSV también queremos extraer la histologia.\n",
    "import pandas as pd\n",
    "\n",
    "histologia = np.array(data[\"Histologia\"].values)\n",
    "histologia = list(histologia[indices])\n",
    "\n",
    "for i in range(processed_images.shape[0]):\n",
    "    histologia = histologia + [histologia[i], histologia[i], histologia[i], histologia[i], histologia[i], histologia[i]]\n",
    "\n",
    "histologia = np.array(histologia)\n",
    "histologia = pd.get_dummies(histologia)\n",
    "histologia.index = range(1,85)"
   ]
  },
  {
   "cell_type": "code",
   "execution_count": 39,
   "metadata": {},
   "outputs": [],
   "source": [
    "# Lo almacenaremos todo en un h5 para transportarlo.\n",
    "\n",
    "hf = h5py.File(\"data_augmented.h5\", \"w\")\n",
    "hf.create_dataset(\"data_augmented\", data = new_data_augmented)\n",
    "hf.create_dataset(\"labels\", data = labels)\n",
    "hf.create_dataset(\"histologia\", data = histologia)\n",
    "hf.close()"
   ]
  },
  {
   "cell_type": "code",
   "execution_count": 40,
   "metadata": {},
   "outputs": [
    {
     "output_type": "execute_result",
     "data": {
      "text/plain": [
       "    Displasia leve  Displasia moderada  Displasia severa  Sin displasia\n",
       "1                0                   0                 0              1\n",
       "2                0                   1                 0              0\n",
       "3                0                   0                 0              1\n",
       "4                0                   0                 0              1\n",
       "5                0                   0                 0              1\n",
       "..             ...                 ...               ...            ...\n",
       "80               0                   0                 1              0\n",
       "81               0                   0                 1              0\n",
       "82               0                   0                 1              0\n",
       "83               0                   0                 1              0\n",
       "84               0                   0                 1              0\n",
       "\n",
       "[84 rows x 4 columns]"
      ],
      "text/html": "<div>\n<style scoped>\n    .dataframe tbody tr th:only-of-type {\n        vertical-align: middle;\n    }\n\n    .dataframe tbody tr th {\n        vertical-align: top;\n    }\n\n    .dataframe thead th {\n        text-align: right;\n    }\n</style>\n<table border=\"1\" class=\"dataframe\">\n  <thead>\n    <tr style=\"text-align: right;\">\n      <th></th>\n      <th>Displasia leve</th>\n      <th>Displasia moderada</th>\n      <th>Displasia severa</th>\n      <th>Sin displasia</th>\n    </tr>\n  </thead>\n  <tbody>\n    <tr>\n      <th>1</th>\n      <td>0</td>\n      <td>0</td>\n      <td>0</td>\n      <td>1</td>\n    </tr>\n    <tr>\n      <th>2</th>\n      <td>0</td>\n      <td>1</td>\n      <td>0</td>\n      <td>0</td>\n    </tr>\n    <tr>\n      <th>3</th>\n      <td>0</td>\n      <td>0</td>\n      <td>0</td>\n      <td>1</td>\n    </tr>\n    <tr>\n      <th>4</th>\n      <td>0</td>\n      <td>0</td>\n      <td>0</td>\n      <td>1</td>\n    </tr>\n    <tr>\n      <th>5</th>\n      <td>0</td>\n      <td>0</td>\n      <td>0</td>\n      <td>1</td>\n    </tr>\n    <tr>\n      <th>...</th>\n      <td>...</td>\n      <td>...</td>\n      <td>...</td>\n      <td>...</td>\n    </tr>\n    <tr>\n      <th>80</th>\n      <td>0</td>\n      <td>0</td>\n      <td>1</td>\n      <td>0</td>\n    </tr>\n    <tr>\n      <th>81</th>\n      <td>0</td>\n      <td>0</td>\n      <td>1</td>\n      <td>0</td>\n    </tr>\n    <tr>\n      <th>82</th>\n      <td>0</td>\n      <td>0</td>\n      <td>1</td>\n      <td>0</td>\n    </tr>\n    <tr>\n      <th>83</th>\n      <td>0</td>\n      <td>0</td>\n      <td>1</td>\n      <td>0</td>\n    </tr>\n    <tr>\n      <th>84</th>\n      <td>0</td>\n      <td>0</td>\n      <td>1</td>\n      <td>0</td>\n    </tr>\n  </tbody>\n</table>\n<p>84 rows × 4 columns</p>\n</div>"
     },
     "metadata": {},
     "execution_count": 40
    }
   ],
   "source": [
    "histologia"
   ]
  }
 ]
}