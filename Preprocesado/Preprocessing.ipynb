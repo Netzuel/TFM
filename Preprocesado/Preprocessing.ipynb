{
 "metadata": {
  "language_info": {
   "codemirror_mode": {
    "name": "ipython",
    "version": 3
   },
   "file_extension": ".py",
   "mimetype": "text/x-python",
   "name": "python",
   "nbconvert_exporter": "python",
   "pygments_lexer": "ipython3",
   "version": "3.8.5-final"
  },
  "orig_nbformat": 2,
  "kernelspec": {
   "name": "python38564bitc7540b7eedad46cc87a03fd6927cb6bc",
   "display_name": "Python 3.8.5 64-bit"
  }
 },
 "nbformat": 4,
 "nbformat_minor": 2,
 "cells": [
  {
   "cell_type": "code",
   "execution_count": 11,
   "metadata": {},
   "outputs": [],
   "source": [
    "from utilities import *\n",
    "import os"
   ]
  },
  {
   "cell_type": "code",
   "execution_count": 12,
   "metadata": {},
   "outputs": [],
   "source": [
    "files = os.listdir(\"Heridas/Originales\")\n",
    "\n",
    "# Primero recortaremos las imágenes y las exportaremos como .png. Hay que tener en cuenta que las imágenes como array son RGB, pero al exportarlas serán BGR porque\n",
    "# cv2 trabaja así. No obstante, estas imágenes exportadas o tienen otra finalidad que comprobar el correcto recortado.\n",
    "\n",
    "heridas_recortadas = [Imagen(\"Heridas/Originales/\" + str(i+1) + \".jpg\").cut(save = True, output_path = \"Heridas/Recortados/\" + str(i+1) + \".png\") for i in range(len(files))]\n",
    "\n",
    "sanos_recortados = [Imagen(\"Sanos/Originales/\" + str(i+1) + \".jpg\").cut(save = True, output_path = \"Sanos/Recortados/\" + str(i+1) + \".png\") for i in range(len(files))]"
   ]
  },
  {
   "cell_type": "code",
   "execution_count": 13,
   "metadata": {},
   "outputs": [],
   "source": [
    "# Ahora realizaremos el preprocesado de las heridas recortadas, estandarizándolas utilizano como base las imágenes de tejido sano.\n",
    "\n",
    "processed_images = [processing(img_inj = heridas_recortadas[i], img_healthy = sanos_recortados[i]) for i in range(len(files))]"
   ]
  },
  {
   "cell_type": "code",
   "execution_count": 14,
   "metadata": {},
   "outputs": [],
   "source": [
    "# Ahora realizaremos una redimensión de las imágenes de las heridas recortadas y standarizadas. Para ello necesitaremos la media de las dimensiones.\n",
    "\n",
    "dim = int(round(np.mean([processed_images[i].shape[0] for i in range(len(files))])))\n",
    "\n",
    "final_images = [resize(processed_images[i], shape_input = (dim, dim)) for i in range(len(files))]\n",
    "\n",
    "# Finalmente las dispondremos en un array donde el primer índice será el índice de la imagen.\n",
    "\n",
    "final_images = np.stack(final_images, axis = 0)\n",
    "\n",
    "# Lo guardaremos en un .h5.\n",
    "\n",
    "import h5py\n",
    "\n",
    "hf = h5py.File(\"final_images.h5\", \"w\")\n",
    "hf.create_dataset(\"final_images\", data = final_images)\n",
    "hf.close()"
   ]
  }
 ]
}