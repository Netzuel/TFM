{
 "metadata": {
  "language_info": {
   "codemirror_mode": {
    "name": "ipython",
    "version": 3
   },
   "file_extension": ".py",
   "mimetype": "text/x-python",
   "name": "python",
   "nbconvert_exporter": "python",
   "pygments_lexer": "ipython3",
   "version": "3.8.5-final"
  },
  "orig_nbformat": 2,
  "kernelspec": {
   "name": "python38564bitc7540b7eedad46cc87a03fd6927cb6bc",
   "display_name": "Python 3.8.5 64-bit"
  }
 },
 "nbformat": 4,
 "nbformat_minor": 2,
 "cells": [
  {
   "cell_type": "code",
   "execution_count": 77,
   "metadata": {},
   "outputs": [],
   "source": [
    "import numpy as np\n",
    "\n",
    "# Primero cargaremos las imágenes del Data Augmentation.\n",
    "\n",
    "import h5py\n",
    "\n",
    "hf = h5py.File(\"data_augmented.h5\", \"r\")\n",
    "processed_images = np.array(hf.get(\"data_augmented\"))\n",
    "labels = np.array(hf.get(\"labels\"))\n",
    "hf.close()\n",
    "\n",
    "hf = h5py.File(\"Preprocesado/processed.h5\")\n",
    "original_images = np.array(hf.get(\"processed_images\"))\n",
    "hf.close()"
   ]
  },
  {
   "cell_type": "code",
   "execution_count": 80,
   "metadata": {},
   "outputs": [
    {
     "output_type": "execute_result",
     "data": {
      "text/plain": [
       "LogisticRegression()"
      ]
     },
     "metadata": {},
     "execution_count": 80
    }
   ],
   "source": [
    "# Ahora probaremos una regresión logística. Aunque es un modelo muy básico nos servirá para tener una primera visión. Cada píxel es considerado una característica, así que hemos de hacer un reshape apropiado de los datos. Tampoco usamos aquí los datos de histología aún. Estamos intentando poner una cota mínima.\n",
    "\n",
    "from sklearn.linear_model import LogisticRegression\n",
    "from sklearn.model_selection import train_test_split\n",
    "\n",
    "X_train, X_test, y_train, y_test = train_test_split(processed_images.reshape((processed_images.shape[0],processed_images.shape[1]*processed_images.shape[1]*3)), labels, test_size = 0.33, random_state = 42)\n",
    "\n",
    "logisticRegr = LogisticRegression()\n",
    "logisticRegr.fit(X_train, y_train)"
   ]
  },
  {
   "cell_type": "code",
   "execution_count": 81,
   "metadata": {},
   "outputs": [
    {
     "output_type": "stream",
     "name": "stdout",
     "text": [
      "AUC de: 0.5692307692307692\nRecall de: 0.5384615384615384\n"
     ]
    }
   ],
   "source": [
    "from sklearn.metrics import confusion_matrix\n",
    "from sklearn import metrics\n",
    "\n",
    "tn, fp, fn, tp = confusion_matrix(y_test, logisticRegr.predict(X_test)).ravel()\n",
    "fpr, tpr, thresholds = metrics.roc_curve(y_test, logisticRegr.predict(X_test))\n",
    "print(\"AUC de:\", metrics.auc(fpr, tpr))\n",
    "print(\"Recall de:\", tp/(tp+fn))"
   ]
  }
 ]
}